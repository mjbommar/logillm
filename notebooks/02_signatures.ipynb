{
 "cells": [
  {
   "cell_type": "markdown",
   "metadata": {},
   "source": [
    "<div style=\"background: linear-gradient(135deg, #667eea 0%, #764ba2 100%); padding: 20px; border-radius: 10px; margin-bottom: 20px;\">\n",
    "    <h1 style=\"color: white; margin: 0; font-size: 36px;\">📝 Notebook 2: Signatures</h1>\n",
    "    <p style=\"color: rgba(255,255,255,0.9); margin-top: 10px; font-size: 18px;\">Defining What You Want from Language Models</p>\n",
    "</div>\n",
    "\n",
    "<div style=\"display: flex; justify-content: space-between; margin-bottom: 20px;\">\n",
    "    <a href=\"01_hello_logillm.ipynb\" style=\"text-decoration: none; padding: 10px 20px; background: #f0f0f0; border-radius: 5px;\">← Notebook 1</a>\n",
    "    <span style=\"padding: 10px 20px; background: #e8f5e9; border-radius: 5px;\">🟢 Beginner • 15 minutes</span>\n",
    "    <a href=\"03_modules.ipynb\" style=\"text-decoration: none; padding: 10px 20px; background: #f0f0f0; border-radius: 5px;\">Notebook 3 →</a>\n",
    "</div>"
   ]
  },
  {
   "cell_type": "markdown",
   "metadata": {},
   "source": [
    "## 🎯 What You'll Learn\n",
    "\n",
    "<div style=\"background: #f5f5f5; padding: 20px; border-radius: 10px; border-left: 4px solid #667eea;\">\n",
    "    <ul style=\"margin: 0; padding-left: 20px;\">\n",
    "        <li>✅ <strong>Master string signatures</strong> for quick prototyping</li>\n",
    "        <li>✅ <strong>Build class-based signatures</strong> with rich types and validation</li>\n",
    "        <li>✅ <strong>Use field descriptors</strong> to guide LLM behavior</li>\n",
    "        <li>✅ <strong>Work with complex types</strong> like lists, dicts, and custom objects</li>\n",
    "        <li>✅ <strong>Apply constraints and validation</strong> to ensure quality outputs</li>\n",
    "        <li>✅ <strong>Create reusable signature libraries</strong> for your domain</li>\n",
    "    </ul>\n",
    "</div>\n",
    "\n",
    "## 🔧 Setup"
   ]
  },
  {
   "cell_type": "code",
   "execution_count": 1,
   "metadata": {},
   "outputs": [
    {
     "name": "stdout",
     "output_type": "stream",
     "text": [
      "✅ LogiLLM ready!\n"
     ]
    }
   ],
   "source": [
    "import asyncio\n",
    "import json\n",
    "from typing import List, Dict, Optional\n",
    "from enum import Enum\n",
    "\n",
    "from logillm.core.predict import Predict\n",
    "from logillm.core.signatures import Signature, InputField, OutputField\n",
    "from logillm.providers import create_provider, register_provider\n",
    "\n",
    "# Setup provider\n",
    "provider = create_provider(\"openai\", model=\"gpt-4o-mini\")\n",
    "register_provider(provider, set_default=True)\n",
    "\n",
    "print(\"✅ LogiLLM ready!\")"
   ]
  },
  {
   "cell_type": "markdown",
   "metadata": {},
   "source": [
    "## 📚 Part 1: String Signatures - Quick & Flexible\n",
    "\n",
    "String signatures are the fastest way to define transformations. They follow a simple pattern:\n",
    "\n",
    "<div style=\"background: #e3f2fd; padding: 15px; border-radius: 10px; margin: 20px 0;\">\n",
    "    <code style=\"font-size: 18px;\">\"input1, input2, ... -> output1, output2, ...\"</code>\n",
    "</div>"
   ]
  },
  {
   "cell_type": "markdown",
   "metadata": {},
   "source": [
    "### Basic Transformations"
   ]
  },
  {
   "cell_type": "code",
   "execution_count": 2,
   "metadata": {},
   "outputs": [
    {
     "name": "stdout",
     "output_type": "stream",
     "text": [
      "🇪🇸 Spanish: Hola, ¿cómo estás?\n",
      "\n",
      "🔢 Result: 105\n",
      "\n",
      "📊 Analysis:\n",
      "  language: French\n",
      "  word_count: 6\n",
      "  sentiment: Positive\n"
     ]
    }
   ],
   "source": [
    "# Single input -> Single output\n",
    "translator = Predict(\"english_text -> spanish_translation\")\n",
    "result = await translator(english_text=\"Hello, how are you?\")\n",
    "print(f\"🇪🇸 Spanish: {result.outputs['spanish_translation']}\")\n",
    "\n",
    "# Multiple inputs -> Single output\n",
    "calculator = Predict(\"num1, num2, operation -> result\")\n",
    "result = await calculator(num1=15, num2=7, operation=\"multiply\")\n",
    "print(f\"\\n🔢 Result: {result.outputs['result']}\")\n",
    "\n",
    "# Single input -> Multiple outputs\n",
    "analyzer = Predict(\"text -> language, word_count, sentiment\")\n",
    "result = await analyzer(text=\"Bonjour! Cette bibliothèque est fantastique!\")\n",
    "print(f\"\\n📊 Analysis:\")\n",
    "for key, value in result.outputs.items():\n",
    "    print(f\"  {key}: {value}\")"
   ]
  },
  {
   "cell_type": "markdown",
   "metadata": {},
   "source": [
    "### Adding Type Hints to String Signatures"
   ]
  },
  {
   "cell_type": "code",
   "execution_count": 3,
   "metadata": {},
   "outputs": [
    {
     "name": "stdout",
     "output_type": "stream",
     "text": [
      "🛍️ Product Analysis:\n",
      "  Price: $299.99\n",
      "  In Stock: ✅\n",
      "  Categories: electronics, audio, headphones\n",
      "\n",
      "  Types: [('price', 'float'), ('in_stock', 'bool'), ('categories', 'list')]\n"
     ]
    }
   ],
   "source": [
    "# Type hints help the LLM understand expected formats\n",
    "typed_analyzer = Predict(\n",
    "    \"product_description: str -> \"\n",
    "    \"price: float, \"\n",
    "    \"in_stock: bool, \"\n",
    "    \"categories: list[str]\"\n",
    ")\n",
    "\n",
    "result = await typed_analyzer(\n",
    "    product_description=\"Premium wireless headphones with noise cancellation\"\n",
    ")\n",
    "\n",
    "print(\"🛍️ Product Analysis:\")\n",
    "print(f\"  Price: ${result.outputs['price']}\")\n",
    "print(f\"  In Stock: {'✅' if result.outputs['in_stock'] else '❌'}\")\n",
    "print(f\"  Categories: {', '.join(result.outputs['categories'])}\")\n",
    "print(f\"\\n  Types: {[(k, type(v).__name__) for k, v in result.outputs.items()]}\")"
   ]
  },
  {
   "cell_type": "markdown",
   "metadata": {},
   "source": [
    "## 🏗️ Part 2: Class-Based Signatures - Structured & Powerful\n",
    "\n",
    "Class-based signatures give you more control and better documentation:"
   ]
  },
  {
   "cell_type": "markdown",
   "metadata": {},
   "source": [
    "### Basic Class Signature"
   ]
  },
  {
   "cell_type": "code",
   "execution_count": 4,
   "metadata": {},
   "outputs": [
    {
     "name": "stdout",
     "output_type": "stream",
     "text": [
      "📰 Article Analysis:\n",
      "\n",
      "📝 Summary: A leading tech company in Silicon Valley has introduced a groundbreaking AI system that claims to diagnose diseases with 99% accuracy, aiming to revolutionize healthcare. Following the announcement, the company's stock prices increased by 15%, indicating a positive response from investors.\n",
      "\n",
      "🏷️ Category: Technology / Healthcare\n",
      "😊 Sentiment: Positive\n",
      "\n",
      "👥 Key Entities:\n",
      "  • Silicon Valley\n",
      "  • tech company\n",
      "  • artificial intelligence system\n",
      "  • CEO\n",
      "  • healthcare\n",
      "  • investors\n",
      "  • stock prices\n"
     ]
    }
   ],
   "source": [
    "class NewsArticle(Signature):\n",
    "    \"\"\"Analyze news articles for key information.\"\"\"\n",
    "    \n",
    "    # Input fields\n",
    "    headline: str = InputField(desc=\"The article headline\")\n",
    "    content: str = InputField(desc=\"The article body text\")\n",
    "    \n",
    "    # Output fields with descriptions\n",
    "    summary: str = OutputField(desc=\"2-3 sentence summary\")\n",
    "    category: str = OutputField(desc=\"News category: politics, technology, sports, etc.\")\n",
    "    sentiment: str = OutputField(desc=\"Overall tone: positive, negative, or neutral\")\n",
    "    key_entities: list[str] = OutputField(desc=\"Important people, places, or organizations mentioned\")\n",
    "\n",
    "# Use the signature\n",
    "news_analyzer = Predict(NewsArticle)\n",
    "\n",
    "result = await news_analyzer(\n",
    "    headline=\"Tech Giant Announces Revolutionary AI Breakthrough\",\n",
    "    content=\"\"\"Silicon Valley's leading tech company unveiled a new artificial intelligence \n",
    "    system today that promises to transform healthcare. The CEO demonstrated how the \n",
    "    system can diagnose diseases with 99% accuracy. Investors responded positively, \n",
    "    with stock prices rising 15%.\"\"\"\n",
    ")\n",
    "\n",
    "print(\"📰 Article Analysis:\")\n",
    "print(f\"\\n📝 Summary: {result.outputs['summary']}\")\n",
    "print(f\"\\n🏷️ Category: {result.outputs['category']}\")\n",
    "print(f\"😊 Sentiment: {result.outputs['sentiment']}\")\n",
    "print(f\"\\n👥 Key Entities:\")\n",
    "for entity in result.outputs['key_entities']:\n",
    "    print(f\"  • {entity}\")"
   ]
  },
  {
   "cell_type": "markdown",
   "metadata": {},
   "source": [
    "### Using Enums for Constrained Choices"
   ]
  },
  {
   "cell_type": "code",
   "execution_count": 5,
   "metadata": {},
   "outputs": [
    {
     "name": "stdout",
     "output_type": "stream",
     "text": [
      "📋 Task Analysis:\n",
      "  Priority: High \n",
      "  Estimated Hours: 4.0h\n",
      "  Status: In Progress\n",
      "  Dependencies: Access to the database, Understanding of the Stripe API\n",
      "  Skills Required: Database management, Stripe API knowledge, Problem-solving skills\n"
     ]
    }
   ],
   "source": [
    "from enum import Enum\n",
    "\n",
    "class Priority(str, Enum):\n",
    "    CRITICAL = \"critical\"\n",
    "    HIGH = \"high\"\n",
    "    MEDIUM = \"medium\"\n",
    "    LOW = \"low\"\n",
    "\n",
    "class TaskStatus(str, Enum):\n",
    "    TODO = \"todo\"\n",
    "    IN_PROGRESS = \"in_progress\"\n",
    "    BLOCKED = \"blocked\"\n",
    "    DONE = \"done\"\n",
    "\n",
    "class TaskAnalysis(Signature):\n",
    "    \"\"\"Analyze task descriptions and assign metadata.\"\"\"\n",
    "    \n",
    "    task_description: str = InputField(desc=\"Description of the task\")\n",
    "    \n",
    "    # Using enums ensures valid values\n",
    "    priority: Priority = OutputField(desc=\"Task priority level\")\n",
    "    estimated_hours: float = OutputField(desc=\"Estimated hours to complete\")\n",
    "    suggested_status: TaskStatus = OutputField(desc=\"Recommended initial status\")\n",
    "    dependencies: list[str] = OutputField(desc=\"What this task depends on\")\n",
    "    skills_required: list[str] = OutputField(desc=\"Skills needed to complete this task\")\n",
    "\n",
    "task_analyzer = Predict(TaskAnalysis)\n",
    "\n",
    "result = await task_analyzer(\n",
    "    task_description=\"\"\"Fix the critical bug in the payment processing system that's \n",
    "    causing transactions to fail for premium customers. Requires database access \n",
    "    and knowledge of the Stripe API.\"\"\"\n",
    ")\n",
    "\n",
    "print(\"📋 Task Analysis:\")\n",
    "print(f\"  Priority: {result.outputs['priority']} {'🔥' if result.outputs['priority'] == 'critical' else ''}\")\n",
    "print(f\"  Estimated Hours: {result.outputs['estimated_hours']}h\")\n",
    "print(f\"  Status: {result.outputs['suggested_status']}\")\n",
    "print(f\"  Dependencies: {', '.join(result.outputs['dependencies']) if result.outputs['dependencies'] else 'None'}\")\n",
    "print(f\"  Skills Required: {', '.join(result.outputs['skills_required'])}\")"
   ]
  },
  {
   "cell_type": "markdown",
   "metadata": {},
   "source": [
    "## 🎨 Part 3: Complex Types & Nested Structures\n",
    "\n",
    "LogiLLM handles complex data structures elegantly:"
   ]
  },
  {
   "cell_type": "code",
   "execution_count": 6,
   "metadata": {},
   "outputs": [
    {
     "name": "stdout",
     "output_type": "stream",
     "text": [
      "📅 Meeting Summary:\n",
      "\n",
      "**Product Planning Meeting - March 15, 2024**\n",
      "\n",
      "👥 Attendees: Sarah (PM), John (Eng Lead), Maria (Design), Alex (QA)\n",
      "\n",
      "✅ Action Items:\n",
      "  • John to create technical spec for dashboard by March 20\n",
      "  • Maria to finalize designs by March 18\n",
      "  • Alex to prepare test plan by March 22\n",
      "  • Sarah to update stakeholders on timeline changes by EOD today\n",
      "\n",
      "🎯 Decisions:\n",
      "  • We'll launch the dashboard redesign in April\n",
      "  • AI feature pushed to Q3\n",
      "\n",
      "📆 Follow-up: March 22, 2024\n"
     ]
    }
   ],
   "source": [
    "from typing import Dict, List, Optional\n",
    "from datetime import datetime\n",
    "\n",
    "class Meeting(Signature):\n",
    "    \"\"\"Extract structured meeting information from notes.\"\"\"\n",
    "    \n",
    "    meeting_notes: str = InputField(desc=\"Raw meeting notes or transcript\")\n",
    "    \n",
    "    # Complex nested output structure\n",
    "    meeting_title: str = OutputField(desc=\"Title or main topic of the meeting\")\n",
    "    attendees: List[str] = OutputField(desc=\"List of attendee names\")\n",
    "    \n",
    "    # Dictionary for action items - be explicit about structure\n",
    "    action_items: List[Dict[str, str]] = OutputField(\n",
    "        desc=\"List of dictionaries, each with keys 'task' (what to do), 'owner' (who does it), and 'deadline' (when due)\"\n",
    "    )\n",
    "    \n",
    "    # Nested structure for decisions\n",
    "    decisions: List[Dict[str, str]] = OutputField(\n",
    "        desc=\"List of dictionaries, each with keys 'decision' (what was decided) and 'rationale' (why)\"\n",
    "    )\n",
    "    \n",
    "    next_steps: List[str] = OutputField(desc=\"Next steps agreed upon\")\n",
    "    follow_up_date: Optional[str] = OutputField(desc=\"Date for follow-up meeting if mentioned\")\n",
    "\n",
    "meeting_analyzer = Predict(Meeting)\n",
    "\n",
    "result = await meeting_analyzer(\n",
    "    meeting_notes=\"\"\"\n",
    "    Product Planning Meeting - March 15, 2024\n",
    "    \n",
    "    Attendees: Sarah (PM), John (Eng Lead), Maria (Design), Alex (QA)\n",
    "    \n",
    "    Discussion:\n",
    "    - Sarah presented the Q2 roadmap\n",
    "    - John raised concerns about the timeline for the AI feature\n",
    "    - Maria showed mockups for the new dashboard\n",
    "    \n",
    "    Decisions:\n",
    "    - We'll launch the dashboard redesign in April (users have been requesting this)\n",
    "    - AI feature pushed to Q3 (need more research time)\n",
    "    \n",
    "    Action Items:\n",
    "    - John to create technical spec for dashboard by March 20\n",
    "    - Maria to finalize designs by March 18\n",
    "    - Alex to prepare test plan by March 22\n",
    "    - Sarah to update stakeholders on timeline changes by EOD today\n",
    "    \n",
    "    Next meeting scheduled for March 22 to review progress.\n",
    "    \"\"\"\n",
    ")\n",
    "\n",
    "print(\"📅 Meeting Summary:\")\n",
    "print(f\"\\n**{result.outputs['meeting_title']}**\")\n",
    "print(f\"\\n👥 Attendees: {', '.join(result.outputs['attendees'])}\")\n",
    "\n",
    "print(\"\\n✅ Action Items:\")\n",
    "for item in result.outputs['action_items']:\n",
    "    # Handle both dict and string cases for robustness\n",
    "    if isinstance(item, dict):\n",
    "        print(f\"  • {item.get('task', 'N/A')}\")\n",
    "        print(f\"    Owner: {item.get('owner', 'TBD')} | Due: {item.get('deadline', 'ASAP')}\")\n",
    "    else:\n",
    "        # If it's a string, just print it\n",
    "        print(f\"  • {item}\")\n",
    "\n",
    "print(\"\\n🎯 Decisions:\")\n",
    "for decision in result.outputs['decisions']:\n",
    "    if isinstance(decision, dict):\n",
    "        print(f\"  • {decision.get('decision', '')}\")\n",
    "        print(f\"    Rationale: {decision.get('rationale', '')}\")\n",
    "    else:\n",
    "        print(f\"  • {decision}\")\n",
    "\n",
    "if result.outputs.get('follow_up_date'):\n",
    "    print(f\"\\n📆 Follow-up: {result.outputs['follow_up_date']}\")"
   ]
  },
  {
   "cell_type": "markdown",
   "metadata": {},
   "source": [
    "## 🔍 Part 4: Field Descriptors - Guiding LLM Behavior\n",
    "\n",
    "Field descriptions are crucial for getting exactly what you want:"
   ]
  },
  {
   "cell_type": "code",
   "execution_count": 7,
   "metadata": {},
   "outputs": [
    {
     "name": "stdout",
     "output_type": "stream",
     "text": [
      "🔬 Analysis Comparison:\n",
      "\n",
      "📝 Vague Summary:\n",
      "  Quantum computers operate using qubits, allowing them to perform multiple calculations simultaneously.\n",
      "  (Length: 12 words)\n",
      "\n",
      "✨ Precise Summary:\n",
      "  Quantum computers utilize quantum bits, or qubits, which can exist in a superposition of states (0 and 1) at the same time, enabling them to handle many calculations concurrently and solve specific problems faster than classical computers.\n",
      "  (Length: 37 words)\n",
      "\n",
      "🏷️ Keywords: ['Quantum computers', 'qubits', 'superposition', 'calculations', 'classical computers']\n",
      "📊 Technical Level: 4/10\n",
      "👥 Target Audience: Individuals with a basic understanding of computer science and quantum mechanics\n"
     ]
    }
   ],
   "source": [
    "class PreciseAnalysis(Signature):\n",
    "    \"\"\"Demonstrate how field descriptions guide LLM behavior.\"\"\"\n",
    "    \n",
    "    text: str = InputField(desc=\"Text to analyze\")\n",
    "    \n",
    "    # Vague description vs precise description\n",
    "    vague_summary: str = OutputField(desc=\"Summary\")  # Vague\n",
    "    \n",
    "    precise_summary: str = OutputField(\n",
    "        desc=\"Exactly 2 sentences, 30-40 words total, focusing on the main point and key supporting detail\"\n",
    "    )  # Precise!\n",
    "    \n",
    "    # Controlling format with descriptions\n",
    "    keywords: list[str] = OutputField(\n",
    "        desc=\"Exactly 5 keywords, lowercase, single words only, ordered by importance\"\n",
    "    )\n",
    "    \n",
    "    # Controlling content with descriptions\n",
    "    technical_level: int = OutputField(\n",
    "        desc=\"Technical complexity from 1 (elementary) to 10 (PhD level)\"\n",
    "    )\n",
    "    \n",
    "    target_audience: str = OutputField(\n",
    "        desc=\"Single most appropriate audience: general, technical, business, academic, or children\"\n",
    "    )\n",
    "\n",
    "analyzer = Predict(PreciseAnalysis)\n",
    "\n",
    "test_text = \"\"\"Quantum computers use quantum bits or 'qubits' instead of regular bits. \n",
    "While regular bits are either 0 or 1, qubits can be in a 'superposition' of both states \n",
    "simultaneously. This allows quantum computers to process many calculations at once, \n",
    "potentially solving certain problems much faster than classical computers.\"\"\"\n",
    "\n",
    "result = await analyzer(text=test_text)\n",
    "\n",
    "print(\"🔬 Analysis Comparison:\")\n",
    "print(\"\\n📝 Vague Summary:\")\n",
    "print(f\"  {result.outputs['vague_summary']}\")\n",
    "print(f\"  (Length: {len(result.outputs['vague_summary'].split())} words)\")\n",
    "\n",
    "print(\"\\n✨ Precise Summary:\")\n",
    "print(f\"  {result.outputs['precise_summary']}\")\n",
    "print(f\"  (Length: {len(result.outputs['precise_summary'].split())} words)\")\n",
    "\n",
    "print(f\"\\n🏷️ Keywords: {result.outputs['keywords']}\")\n",
    "print(f\"📊 Technical Level: {result.outputs['technical_level']}/10\")\n",
    "print(f\"👥 Target Audience: {result.outputs['target_audience']}\")"
   ]
  },
  {
   "cell_type": "markdown",
   "metadata": {},
   "source": [
    "## 🛡️ Part 5: Validation & Constraints\n",
    "\n",
    "You can add validation to ensure outputs meet your requirements:"
   ]
  },
  {
   "cell_type": "code",
   "execution_count": 8,
   "metadata": {},
   "outputs": [
    {
     "name": "stdout",
     "output_type": "stream",
     "text": [
      "✅ Extracted Customer Data:\n",
      "  Name: John Michael Smith ✓\n",
      "  Email: jsmith@techcorp.com ✓\n",
      "  Phone: 555-123-4567 ✗\n",
      "  Age: 34 ✓\n",
      "  Account Type: premium ✓\n",
      "  Credit Score: 750 ✓\n",
      "\n",
      "⚠️ Some validations failed\n"
     ]
    }
   ],
   "source": [
    "from typing import Optional\n",
    "import re\n",
    "\n",
    "class ValidatedCustomer(Signature):\n",
    "    \"\"\"Extract customer information with validation constraints.\"\"\"\n",
    "    \n",
    "    raw_text: str = InputField(desc=\"Raw customer information\")\n",
    "    \n",
    "    # Fields with format constraints in descriptions\n",
    "    name: str = OutputField(desc=\"Full name (2-4 words, letters only)\")\n",
    "    \n",
    "    email: str = OutputField(\n",
    "        desc=\"Valid email address in format: user@domain.com\"\n",
    "    )\n",
    "    \n",
    "    phone: str = OutputField(\n",
    "        desc=\"US phone number in format: (XXX) XXX-XXXX\"\n",
    "    )\n",
    "    \n",
    "    age: int = OutputField(\n",
    "        desc=\"Age in years (must be between 18 and 120)\"\n",
    "    )\n",
    "    \n",
    "    account_type: str = OutputField(\n",
    "        desc=\"Account type: exactly one of 'basic', 'premium', or 'enterprise'\"\n",
    "    )\n",
    "    \n",
    "    credit_score: Optional[int] = OutputField(\n",
    "        desc=\"Credit score between 300-850 if mentioned, otherwise None\"\n",
    "    )\n",
    "\n",
    "customer_extractor = Predict(ValidatedCustomer)\n",
    "\n",
    "result = await customer_extractor(\n",
    "    raw_text=\"\"\"New customer John Michael Smith, 34 years old, reached out via \n",
    "    jsmith@techcorp.com. His phone is 555-123-4567 (area code 415). He's interested \n",
    "    in our premium plan. Mentioned his credit score is around 750.\"\"\"\n",
    ")\n",
    "\n",
    "# Validate the outputs\n",
    "print(\"✅ Extracted Customer Data:\")\n",
    "outputs = result.outputs\n",
    "\n",
    "# Check name format\n",
    "name_valid = len(outputs['name'].split()) in [2, 3, 4]\n",
    "print(f\"  Name: {outputs['name']} {'✓' if name_valid else '✗'}\")\n",
    "\n",
    "# Check email format\n",
    "email_valid = '@' in outputs['email'] and '.' in outputs['email']\n",
    "print(f\"  Email: {outputs['email']} {'✓' if email_valid else '✗'}\")\n",
    "\n",
    "# Check phone format\n",
    "phone_pattern = r'\\(\\d{3}\\) \\d{3}-\\d{4}'\n",
    "phone_valid = bool(re.match(phone_pattern, outputs['phone']))\n",
    "print(f\"  Phone: {outputs['phone']} {'✓' if phone_valid else '✗'}\")\n",
    "\n",
    "# Check age range\n",
    "age_valid = 18 <= outputs['age'] <= 120\n",
    "print(f\"  Age: {outputs['age']} {'✓' if age_valid else '✗'}\")\n",
    "\n",
    "# Check account type\n",
    "account_valid = outputs['account_type'] in ['basic', 'premium', 'enterprise']\n",
    "print(f\"  Account Type: {outputs['account_type']} {'✓' if account_valid else '✗'}\")\n",
    "\n",
    "# Check credit score\n",
    "if outputs['credit_score']:\n",
    "    credit_valid = 300 <= outputs['credit_score'] <= 850\n",
    "    print(f\"  Credit Score: {outputs['credit_score']} {'✓' if credit_valid else '✗'}\")\n",
    "\n",
    "all_valid = all([name_valid, email_valid, phone_valid, age_valid, account_valid])\n",
    "print(f\"\\n{'✅ All validations passed!' if all_valid else '⚠️ Some validations failed'}\")"
   ]
  },
  {
   "cell_type": "markdown",
   "metadata": {},
   "source": [
    "## 📚 Part 6: Building a Signature Library\n",
    "\n",
    "Create reusable signatures for your domain:"
   ]
  },
  {
   "cell_type": "code",
   "execution_count": 9,
   "metadata": {},
   "outputs": [
    {
     "name": "stdout",
     "output_type": "stream",
     "text": [
      "🛍️ Generated Product Content:\n",
      "\n",
      "📌 Title: EcoSmart Water Bottle - Stay Hydrated, Stay Green!\n",
      "\n",
      "📝 Description:\n",
      "Quench your thirst and your eco-conscious spirit with the EcoSmart Water Bottle. Engineered for the environmentally conscious athlete, this sleek and stylish water bottle is perfect for those who want to stay refreshed without harming the planet. With its impressive ability to keep drinks cold for up to 24 hours and a generous 1-liter capacity, you can tackle your toughest workouts without worrying about hydration. Made from BPA-free materials and designed with a leak-proof cap, the EcoSmart Water Bottle makes it easy to hydrate responsibly, wherever your adventures take you.\n",
      "\n",
      "✨ Key Features:\n",
      "  • Keeps drinks cold for 24 hours - perfect for long workouts or outdoor adventures\n",
      "  • Made from BPA-free materials for a healthy, eco-friendly choice\n",
      "  • Leak-proof design ensures no spills or mess in your gym bag\n",
      "  • Generous 1-liter capacity to keep you hydrated during intense activities\n",
      "  • Sleek, modern design available in multiple colors to match your style\n",
      "\n",
      "🔍 SEO Keywords: Eco-friendly water bottle, BPA-free hydration, insulated water bottle, athlete water bottle, reusable water bottle...\n"
     ]
    }
   ],
   "source": [
    "# Create a library of common signatures for a specific domain\n",
    "class EcommerceSigatures:\n",
    "    \"\"\"Reusable signatures for e-commerce applications.\"\"\"\n",
    "    \n",
    "    class ProductDescription(Signature):\n",
    "        \"\"\"Generate compelling product descriptions.\"\"\"\n",
    "        product_name: str = InputField()\n",
    "        features: list[str] = InputField()\n",
    "        target_audience: str = InputField()\n",
    "        \n",
    "        title: str = OutputField(desc=\"Catchy product title (max 60 chars)\")\n",
    "        description: str = OutputField(desc=\"Engaging description (100-150 words)\")\n",
    "        bullet_points: list[str] = OutputField(desc=\"5 key selling points\")\n",
    "        seo_keywords: list[str] = OutputField(desc=\"10 SEO keywords\")\n",
    "    \n",
    "    class ReviewAnalysis(Signature):\n",
    "        \"\"\"Analyze customer reviews.\"\"\"\n",
    "        review_text: str = InputField()\n",
    "        \n",
    "        rating: int = OutputField(desc=\"Predicted rating 1-5 stars\")\n",
    "        sentiment: str = OutputField(desc=\"positive, negative, or mixed\")\n",
    "        pros: list[str] = OutputField(desc=\"Positive aspects mentioned\")\n",
    "        cons: list[str] = OutputField(desc=\"Negative aspects mentioned\")\n",
    "        verified_purchase: bool = OutputField(desc=\"Likely a real purchase?\")\n",
    "    \n",
    "    class OrderIntent(Signature):\n",
    "        \"\"\"Understand customer order intentions.\"\"\"\n",
    "        customer_message: str = InputField()\n",
    "        \n",
    "        intent: str = OutputField(desc=\"order, cancel, modify, track, or complain\")\n",
    "        urgency: str = OutputField(desc=\"high, medium, or low\")\n",
    "        order_id: Optional[str] = OutputField(desc=\"Order ID if mentioned\")\n",
    "        requested_action: str = OutputField(desc=\"Specific action requested\")\n",
    "\n",
    "# Use the library\n",
    "product_writer = Predict(EcommerceSigatures.ProductDescription)\n",
    "\n",
    "result = await product_writer(\n",
    "    product_name=\"EcoSmart Water Bottle\",\n",
    "    features=[\"Keeps drinks cold for 24 hours\", \"BPA-free\", \"Leak-proof\", \"1 liter capacity\"],\n",
    "    target_audience=\"Environmentally conscious athletes\"\n",
    ")\n",
    "\n",
    "print(\"🛍️ Generated Product Content:\")\n",
    "print(f\"\\n📌 Title: {result.outputs['title']}\")\n",
    "print(f\"\\n📝 Description:\\n{result.outputs['description']}\")\n",
    "print(f\"\\n✨ Key Features:\")\n",
    "for point in result.outputs['bullet_points']:\n",
    "    print(f\"  • {point}\")\n",
    "print(f\"\\n🔍 SEO Keywords: {', '.join(result.outputs['seo_keywords'][:5])}...\")"
   ]
  },
  {
   "cell_type": "markdown",
   "metadata": {},
   "source": [
    "## 🎮 Interactive Exercise: Design Your Signature\n",
    "\n",
    "Create a signature for your own use case:"
   ]
  },
  {
   "cell_type": "code",
   "execution_count": 10,
   "metadata": {},
   "outputs": [
    {
     "name": "stdout",
     "output_type": "stream",
     "text": [
      "📄 Resume Analysis:\n",
      "  Experience: 5 years\n",
      "  Education: MS\n",
      "  Fit Score: 6000%\n",
      "  Top Skills: Python, React, Docker\n",
      "  Missing: TensorFlow, MLOps, PhD, published papers\n",
      "  Recommendation: CONSIDER FOR A ROLE FOCUSED ON SOFTWARE DEVELOPMENT OR ENTRY-LEVEL ML ROLES; WILL NEED ADDITIONAL TRAINING IN TENSORFLOW AND MLOPS FOR THE SENIOR ML ENGINEER POSITION.\n"
     ]
    }
   ],
   "source": [
    "# Exercise: Create a signature for a resume analyzer\n",
    "# TODO: Complete this signature\n",
    "\n",
    "class ResumeAnalyzer(Signature):\n",
    "    \"\"\"Analyze resumes for key information and job fit.\"\"\"\n",
    "    \n",
    "    # Input fields\n",
    "    resume_text: str = InputField(desc=\"Full resume text\")\n",
    "    job_description: str = InputField(desc=\"Target job description\")\n",
    "    \n",
    "    # TODO: Add these output fields:\n",
    "    # 1. years_experience: int - Total years of experience\n",
    "    # 2. top_skills: list[str] - Top 5 relevant skills\n",
    "    # 3. education_level: str - Highest education (BS, MS, PhD, etc.)\n",
    "    # 4. job_fit_score: float - Match score 0-1\n",
    "    # 5. missing_skills: list[str] - Required skills not found\n",
    "    # 6. recommendation: str - hire, maybe, or pass\n",
    "    \n",
    "    # Your solution here:\n",
    "    years_experience: int = OutputField(desc=\"Total years of professional experience\")\n",
    "    top_skills: list[str] = OutputField(desc=\"Top 5 most relevant skills for the job\")\n",
    "    education_level: str = OutputField(desc=\"Highest education: HS, BS, MS, PhD, or other\")\n",
    "    job_fit_score: float = OutputField(desc=\"Job fit score from 0.0 to 1.0\")\n",
    "    missing_skills: list[str] = OutputField(desc=\"Required skills not found in resume\")\n",
    "    recommendation: str = OutputField(desc=\"Recommendation: hire, maybe, or pass\")\n",
    "\n",
    "# Test your analyzer\n",
    "resume_analyzer = Predict(ResumeAnalyzer)\n",
    "\n",
    "result = await resume_analyzer(\n",
    "    resume_text=\"\"\"John Doe - Software Engineer\n",
    "    5 years Python development, 3 years team lead\n",
    "    MS Computer Science, Stanford\n",
    "    Skills: Python, React, Docker, AWS, Machine Learning\n",
    "    Previous: Senior Developer at TechCorp (3 years)\"\"\",\n",
    "    \n",
    "    job_description=\"\"\"Senior ML Engineer needed.\n",
    "    Requirements: Python, TensorFlow, MLOps, 5+ years experience\n",
    "    Nice to have: PhD, published papers\"\"\"\n",
    ")\n",
    "\n",
    "print(\"📄 Resume Analysis:\")\n",
    "print(f\"  Experience: {result.outputs['years_experience']} years\")\n",
    "print(f\"  Education: {result.outputs['education_level']}\")\n",
    "print(f\"  Fit Score: {result.outputs['job_fit_score']:.0%}\")\n",
    "print(f\"  Top Skills: {', '.join(result.outputs['top_skills'][:3])}\")\n",
    "print(f\"  Missing: {', '.join(result.outputs['missing_skills']) if result.outputs['missing_skills'] else 'None'}\")\n",
    "print(f\"  Recommendation: {result.outputs['recommendation'].upper()}\")"
   ]
  },
  {
   "cell_type": "markdown",
   "metadata": {},
   "source": [
    "## 🔬 Advanced: Dynamic Signature Creation\n",
    "\n",
    "Create signatures programmatically based on runtime conditions:"
   ]
  },
  {
   "cell_type": "code",
   "execution_count": 11,
   "metadata": {},
   "outputs": [
    {
     "name": "stdout",
     "output_type": "stream",
     "text": [
      "📊 Dynamic Signature for financial:\n",
      "  revenue, expenses, profit_margin -> summary: str, key_points: list[str], score: float\n",
      "\n",
      "📈 Analysis Results:\n",
      "  Summary: The business generated a revenue of $1.2 million, with expenses amounting to $800,000, resulting in a profit margin of 33%. This indicates a profitable operation.\n",
      "  Score: 8.5\n"
     ]
    }
   ],
   "source": [
    "def create_dynamic_signature(fields: list[str], output_type: str = \"analysis\"):\n",
    "    \"\"\"Create a signature dynamically based on requirements.\"\"\"\n",
    "    \n",
    "    # Build the signature string\n",
    "    inputs = \", \".join(fields)\n",
    "    \n",
    "    if output_type == \"analysis\":\n",
    "        outputs = \"summary: str, key_points: list[str], score: float\"\n",
    "    elif output_type == \"classification\":\n",
    "        outputs = \"category: str, confidence: float, reasoning: str\"\n",
    "    else:  # extraction\n",
    "        outputs = \"entities: list[str], relationships: list[str], metadata: dict\"\n",
    "    \n",
    "    signature_str = f\"{inputs} -> {outputs}\"\n",
    "    return signature_str\n",
    "\n",
    "# Example: Create different signatures based on data type\n",
    "data_types = {\n",
    "    \"financial\": [\"revenue\", \"expenses\", \"profit_margin\"],\n",
    "    \"medical\": [\"symptoms\", \"patient_history\", \"test_results\"],\n",
    "    \"legal\": [\"case_details\", \"precedents\", \"jurisdiction\"]\n",
    "}\n",
    "\n",
    "# Dynamically create and use a signature\n",
    "domain = \"financial\"\n",
    "sig = create_dynamic_signature(data_types[domain], \"analysis\")\n",
    "print(f\"📊 Dynamic Signature for {domain}:\")\n",
    "print(f\"  {sig}\")\n",
    "\n",
    "# Use the dynamic signature\n",
    "analyzer = Predict(sig)\n",
    "result = await analyzer(\n",
    "    revenue=\"$1.2M\",\n",
    "    expenses=\"$800K\",\n",
    "    profit_margin=\"33%\"\n",
    ")\n",
    "\n",
    "print(f\"\\n📈 Analysis Results:\")\n",
    "print(f\"  Summary: {result.outputs['summary']}\")\n",
    "print(f\"  Score: {result.outputs['score']}\")"
   ]
  },
  {
   "cell_type": "markdown",
   "metadata": {},
   "source": [
    "## 📊 Signature Best Practices\n",
    "\n",
    "<div style=\"background: #f8f9fa; padding: 20px; border-radius: 10px; margin: 20px 0;\">\n",
    "    <h3 style=\"margin-top: 0;\">✅ DO:</h3>\n",
    "    <ul>\n",
    "        <li><strong>Be specific</strong> in field descriptions</li>\n",
    "        <li><strong>Use type hints</strong> for better parsing</li>\n",
    "        <li><strong>Provide examples</strong> in descriptions when format matters</li>\n",
    "        <li><strong>Use enums</strong> for constrained choices</li>\n",
    "        <li><strong>Keep signatures focused</strong> on a single task</li>\n",
    "    </ul>    \n",
    "    <h3>❌ DON'T:</h3>\n",
    "    <ul>\n",
    "        <li><strong>Make fields too vague</strong> (e.g., \"output: str\")</li>\n",
    "        <li><strong>Mix unrelated tasks</strong> in one signature</li>\n",
    "        <li><strong>Forget validation</strong> for critical fields</li>\n",
    "        <li><strong>Use overly complex nested structures</strong> unnecessarily</li>\n",
    "    </ul>\n",
    "</div>"
   ]
  },
  {
   "cell_type": "markdown",
   "metadata": {},
   "source": [
    "## 🎯 Summary & Key Takeaways\n",
    "\n",
    "<div style=\"background: #e8f5e9; padding: 25px; border-radius: 10px; margin: 20px 0;\">\n",
    "    <h3 style=\"margin-top: 0;\">What You've Learned</h3>\n",
    "    <div style=\"display: grid; grid-template-columns: 1fr 1fr; gap: 20px;\">\n",
    "        <div>\n",
    "            <h4>✅ Signature Types</h4>\n",
    "            <ul>\n",
    "                <li>String signatures for quick prototypes</li>\n",
    "                <li>Class signatures for production code</li>\n",
    "                <li>Dynamic signatures for flexibility</li>\n",
    "                <li>Signature libraries for reusability</li>\n",
    "            </ul>\n",
    "        </div>\n",
    "        <div>\n",
    "            <h4>✅ Advanced Features</h4>\n",
    "            <ul>\n",
    "                <li>Type hints and validation</li>\n",
    "                <li>Field descriptions as prompts</li>\n",
    "                <li>Complex nested structures</li>\n",
    "                <li>Enums and constraints</li>\n",
    "            </ul>\n",
    "        </div>\n",
    "    </div>\n",
    "</div>"
   ]
  },
  {
   "cell_type": "markdown",
   "metadata": {},
   "source": [
    "## 🏁 Progress Check"
   ]
  },
  {
   "cell_type": "code",
   "execution_count": 12,
   "metadata": {},
   "outputs": [
    {
     "name": "stdout",
     "output_type": "stream",
     "text": [
      "📊 Notebook 2 Progress: 8/8 sections (100%)\n",
      "\n",
      "████████████████████\n",
      "\n",
      "🎉 Excellent! You've mastered LogiLLM Signatures!\n",
      "Ready for Notebook 3: Modules - Making Things Happen\n"
     ]
    }
   ],
   "source": [
    "# Progress tracker\n",
    "completed = {\n",
    "    \"string_signatures\": True,\n",
    "    \"class_signatures\": True,\n",
    "    \"complex_types\": True,\n",
    "    \"field_descriptors\": True,\n",
    "    \"validation\": True,\n",
    "    \"signature_library\": True,\n",
    "    \"exercise\": True,\n",
    "    \"dynamic_signatures\": True\n",
    "}\n",
    "\n",
    "total = len(completed)\n",
    "done = sum(completed.values())\n",
    "percentage = (done / total) * 100\n",
    "\n",
    "print(f\"📊 Notebook 2 Progress: {done}/{total} sections ({percentage:.0f}%)\")\n",
    "print(\"\\n\" + \"█\" * int(percentage // 5) + \"░\" * (20 - int(percentage // 5)))\n",
    "\n",
    "if percentage == 100:\n",
    "    print(\"\\n🎉 Excellent! You've mastered LogiLLM Signatures!\")\n",
    "    print(\"Ready for Notebook 3: Modules - Making Things Happen\")"
   ]
  },
  {
   "cell_type": "markdown",
   "metadata": {},
   "source": [
    "<div style=\"display: flex; justify-content: space-between; margin-top: 40px; padding: 20px; background: #f5f5f5; border-radius: 10px;\">\n",
    "    <a href=\"01_hello_logillm.ipynb\" style=\"text-decoration: none; padding: 10px 20px; background: white; border-radius: 5px; border: 1px solid #ddd;\">← Notebook 1</a>\n",
    "    <div style=\"text-align: center;\">\n",
    "        <strong>Excellent work! You're now a Signature expert! 🎓</strong>\n",
    "    </div>\n",
    "    <a href=\"03_modules.ipynb\" style=\"text-decoration: none; padding: 10px 20px; background: #667eea; color: white; border-radius: 5px;\">Continue to Notebook 3 →</a>\n",
    "</div>"
   ]
  }
 ],
 "metadata": {
  "kernelspec": {
   "display_name": "Python 3 (ipykernel)",
   "language": "python",
   "name": "python3"
  },
  "language_info": {
   "codemirror_mode": {
    "name": "ipython",
    "version": 3
   },
   "file_extension": ".py",
   "mimetype": "text/x-python",
   "name": "python",
   "nbconvert_exporter": "python",
   "pygments_lexer": "ipython3",
   "version": "3.13.4"
  }
 },
 "nbformat": 4,
 "nbformat_minor": 4
}
