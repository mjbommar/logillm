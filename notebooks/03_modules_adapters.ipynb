{
 "cells": [
  {
   "cell_type": "markdown",
   "metadata": {},
   "source": [
    "<div style=\"background: linear-gradient(135deg, #667eea 0%, #764ba2 100%); padding: 20px; border-radius: 10px; margin-bottom: 20px;\">\n",
    "    <h1 style=\"color: white; margin: 0; font-size: 36px;\">⚙️ Notebook 3: Modules & Adapters</h1>\n",
    "    <p style=\"color: rgba(255,255,255,0.9); margin-top: 10px; font-size: 18px;\">Execution Strategies & Output Formats for LLMs</p>\n",
    "</div>\n",
    "\n",
    "<div style=\"display: flex; justify-content: space-between; margin-bottom: 20px;\">\n",
    "    <a href=\"02_signatures.ipynb\" style=\"text-decoration: none; padding: 10px 20px; background: #f0f0f0; border-radius: 5px;\">← Notebook 2</a>\n",
    "    <span style=\"padding: 10px 20px; background: #fff8e1; border-radius: 5px;\">🟡 Intermediate • 25 minutes</span>\n",
    "    <a href=\"04_providers.ipynb\" style=\"text-decoration: none; padding: 10px 20px; background: #f0f0f0; border-radius: 5px;\">Notebook 4 →</a>\n",
    "</div>"
   ]
  },
  {
   "cell_type": "markdown",
   "metadata": {},
   "source": [
    "## 🎯 What You'll Learn\n",
    "\n",
    "<div style=\"background: #f5f5f5; padding: 20px; border-radius: 10px; border-left: 4px solid #667eea;\">\n",
    "    <h3>Modules - Execution Strategies</h3>\n",
    "    <ul style=\"margin: 10px 0; padding-left: 20px;\">\n",
    "        <li>✅ <strong>Predict</strong>: Fast, simple transformations</li>\n",
    "        <li>✅ <strong>ChainOfThought</strong>: Add reasoning for complex tasks</li>\n",
    "        <li>✅ <strong>Retry</strong>: Handle failures gracefully</li>\n",
    "        <li>✅ <strong>Refine</strong>: Iterative improvement</li>\n",
    "        <li>✅ <strong>Module Composition</strong>: Combine strategies</li>\n",
    "    </ul>    \n",
    "    <h3>Adapters - Output Formats</h3>\n",
    "    <ul style=\"margin: 10px 0; padding-left: 20px;\">\n",
    "        <li>✅ <strong>JSON</strong>: Structured, reliable parsing</li>\n",
    "        <li>✅ <strong>XML</strong>: Alternative structured format</li>\n",
    "        <li>✅ <strong>Markdown</strong>: Human-readable (with caveats)</li>\n",
    "        <li>✅ <strong>Chat</strong>: Conversational format</li>\n",
    "        <li>✅ <strong>Choosing the right adapter</strong> for your data</li>\n",
    "    </ul>\n",
    "</div>\n",
    "\n",
    "## 🔧 Setup"
   ]
  },
  {
   "cell_type": "code",
   "execution_count": 1,
   "metadata": {},
   "outputs": [
    {
     "name": "stdout",
     "output_type": "stream",
     "text": [
      "✅ OpenAI API key found\n",
      "✅ LogiLLM 0.2.17 ready!\n"
     ]
    }
   ],
   "source": [
    "import asyncio\n",
    "import time\n",
    "import os\n",
    "from typing import List, Dict, Optional\n",
    "\n",
    "import logillm\n",
    "from logillm.core.predict import Predict, ChainOfThought\n",
    "from logillm.core.retry import Retry\n",
    "from logillm.core.refine import Refine\n",
    "from logillm.core.signatures import Signature, InputField, OutputField\n",
    "from logillm.providers import create_provider, register_provider\n",
    "\n",
    "# Check API key\n",
    "if not os.getenv(\"OPENAI_API_KEY\"):\n",
    "    print(\"⚠️ WARNING: OPENAI_API_KEY not set!\")\n",
    "    print(\"Set it with: export OPENAI_API_KEY=your_key\")\n",
    "else:\n",
    "    print(\"✅ OpenAI API key found\")\n",
    "\n",
    "# Setup provider\n",
    "try:\n",
    "    provider = create_provider(\"openai\", model=\"gpt-4.1-mini\")\n",
    "    register_provider(provider, set_default=True)\n",
    "    print(f\"✅ LogiLLM {logillm.__version__} ready!\")\n",
    "except Exception as e:\n",
    "    print(f\"❌ Error: {e}\")"
   ]
  },
  {
   "cell_type": "markdown",
   "metadata": {},
   "source": [
    "## 📚 Part 1: Understanding Modules\n",
    "\n",
    "**Modules** are execution strategies that determine HOW your LLM processes signatures."
   ]
  },
  {
   "cell_type": "code",
   "execution_count": 2,
   "metadata": {},
   "outputs": [
    {
     "name": "stdout",
     "output_type": "stream",
     "text": [
      "🎯 We'll use this signature to explore different modules and adapters\n"
     ]
    }
   ],
   "source": [
    "# Define a signature for testing\n",
    "class TextAnalysis(Signature):\n",
    "    \"\"\"Analyze text for key information.\"\"\"\n",
    "    text: str = InputField(desc=\"Text to analyze\")\n",
    "    \n",
    "    summary: str = OutputField(desc=\"Brief summary\")\n",
    "    topics: list[str] = OutputField(desc=\"Main topics (3-5)\")\n",
    "    sentiment: str = OutputField(desc=\"positive, negative, or neutral\")\n",
    "    confidence: float = OutputField(desc=\"Confidence score 0-1\")\n",
    "\n",
    "test_text = \"\"\"\n",
    "The new LogiLLM framework is revolutionizing how developers work with large language models.\n",
    "It provides clean abstractions, reliable parsing, and excellent performance. However, some users\n",
    "find the initial learning curve challenging. Overall, it's becoming an essential tool.\n",
    "\"\"\"\n",
    "\n",
    "print(\"🎯 We'll use this signature to explore different modules and adapters\")"
   ]
  },
  {
   "cell_type": "markdown",
   "metadata": {},
   "source": [
    "### 🔹 Module 1: Predict - The Foundation"
   ]
  },
  {
   "cell_type": "code",
   "execution_count": 3,
   "metadata": {},
   "outputs": [
    {
     "name": "stdout",
     "output_type": "stream",
     "text": [
      "🔹 Using Predict (simplest module):\n",
      "\n",
      "📝 Summary: The LogiLLM framework is changing how developers use large language models by offering clean abstractions, reliable parsing, and strong performance, despite a challenging initial learning curve. It is becoming an essential tool.\n",
      "🏷️ Topics: LogiLLM framework, large language models, software development, performance, learning curve\n",
      "😊 Sentiment: positive\n",
      "📊 Confidence: 0.9\n",
      "\n",
      "✅ All fields guaranteed to exist!\n"
     ]
    }
   ],
   "source": [
    "# Basic Predict module\n",
    "basic_analyzer = Predict(TextAnalysis)\n",
    "\n",
    "print(\"🔹 Using Predict (simplest module):\")\n",
    "result = await basic_analyzer(text=test_text)\n",
    "\n",
    "print(f\"\\n📝 Summary: {result.outputs['summary']}\")\n",
    "print(f\"🏷️ Topics: {', '.join(result.outputs['topics'])}\")\n",
    "print(f\"😊 Sentiment: {result.outputs['sentiment']}\")\n",
    "print(f\"📊 Confidence: {result.outputs['confidence']}\")\n",
    "print(f\"\\n✅ All fields guaranteed to exist!\")"
   ]
  },
  {
   "cell_type": "markdown",
   "metadata": {},
   "source": [
    "### 🧠 Module 2: ChainOfThought - Adding Reasoning"
   ]
  },
  {
   "cell_type": "code",
   "execution_count": 4,
   "metadata": {},
   "outputs": [
    {
     "name": "stdout",
     "output_type": "stream",
     "text": [
      "🧠 Using ChainOfThought (adds reasoning):\n",
      "\n",
      "💭 Reasoning: Let's think step by step to solve this problem. The text discusses the LogiLLM framework, highlighting its positive aspects such as clean abstractions, reliable parsing, and excellent performance, whi...\n",
      "\n",
      "📝 Summary: The LogiLLM framework improves work with large language models by offering clean abstractions, reliable parsing, and strong performance, though some users find it initially challenging to learn. Overall, it is becoming an essential tool for developers.\n",
      "🏷️ Topics: LogiLLM framework, Large language models, Software features, User experience, Developer tools\n",
      "😊 Sentiment: positive\n",
      "\n",
      "✨ Notice: 'reasoning' field was automatically added!\n"
     ]
    }
   ],
   "source": [
    "# ChainOfThought adds reasoning\n",
    "reasoning_analyzer = ChainOfThought(TextAnalysis)\n",
    "\n",
    "print(\"🧠 Using ChainOfThought (adds reasoning):\")\n",
    "result = await reasoning_analyzer(text=test_text)\n",
    "\n",
    "print(f\"\\n💭 Reasoning: {result.outputs['reasoning'][:200]}...\")\n",
    "print(f\"\\n📝 Summary: {result.outputs['summary']}\")\n",
    "print(f\"🏷️ Topics: {', '.join(result.outputs['topics'])}\")\n",
    "print(f\"😊 Sentiment: {result.outputs['sentiment']}\")\n",
    "print(f\"\\n✨ Notice: 'reasoning' field was automatically added!\")"
   ]
  },
  {
   "cell_type": "markdown",
   "metadata": {},
   "source": [
    "## 🎨 Part 2: Understanding Adapters\n",
    "\n",
    "**Adapters** determine the OUTPUT FORMAT - how the LLM structures its response.\n",
    "\n",
    "<div style=\"background: #fff3e0; padding: 15px; border-radius: 8px; margin: 20px 0;\">\n",
    "    <strong>⚠️ Important:</strong> Adapter choice significantly affects parsing reliability, especially for structured outputs with lists!\n",
    "</div>"
   ]
  },
  {
   "cell_type": "markdown",
   "metadata": {},
   "source": [
    "### 📊 Adapter Comparison: JSON vs XML vs Markdown"
   ]
  },
  {
   "cell_type": "code",
   "execution_count": 5,
   "metadata": {},
   "outputs": [
    {
     "name": "stdout",
     "output_type": "stream",
     "text": [
      "🔬 Testing Different Adapters:\n",
      "\n",
      "============================================================\n",
      "\n",
      "1️⃣ JSON ADAPTER:\n",
      "  ✅ Topics parsed: 0 items\n",
      "  ✅ First topic: None\n",
      "  ✅ Confidence type: NoneType\n",
      "  ✅ All fields present: {'confidence', 'topics', 'summary', 'sentiment'}\n",
      "\n",
      "2️⃣ XML ADAPTER:\n",
      "  ✅ Topics parsed: 5 items\n",
      "  ✅ First topic: LogiLLM framework\n",
      "  ✅ Confidence type: str\n",
      "  ✅ All fields present: {'confidence', 'topics', 'summary', 'sentiment'}\n",
      "\n",
      "3️⃣ MARKDOWN ADAPTER:\n",
      "  ❌ Topics: Failed to parse as list\n",
      "  ⚠️ Confidence type: str\n",
      "  ⚠️ Fields present: {'confidence', 'topics', 'summary', 'sentiment'}\n",
      "\n",
      "============================================================\n",
      "📊 VERDICT: JSON adapter provides most reliable parsing!\n"
     ]
    }
   ],
   "source": [
    "# Test different adapters with the SAME signature\n",
    "print(\"🔬 Testing Different Adapters:\\n\")\n",
    "print(\"=\" * 60)\n",
    "\n",
    "# 1. JSON Adapter (RECOMMENDED for structured data)\n",
    "print(\"\\n1️⃣ JSON ADAPTER:\")\n",
    "json_analyzer = Predict(TextAnalysis, adapter=\"json\")\n",
    "result_json = await json_analyzer(text=test_text)\n",
    "\n",
    "print(f\"  ✅ Topics parsed: {len(result_json.outputs['topics'])} items\")\n",
    "print(f\"  ✅ First topic: {result_json.outputs['topics'][0] if result_json.outputs['topics'] else 'None'}\")\n",
    "print(f\"  ✅ Confidence type: {type(result_json.outputs['confidence']).__name__}\")\n",
    "print(f\"  ✅ All fields present: {set(result_json.outputs.keys())}\")\n",
    "\n",
    "# 2. XML Adapter (Good alternative)\n",
    "print(\"\\n2️⃣ XML ADAPTER:\")\n",
    "xml_analyzer = Predict(TextAnalysis, adapter=\"xml\")\n",
    "result_xml = await xml_analyzer(text=test_text)\n",
    "\n",
    "print(f\"  ✅ Topics parsed: {len(result_xml.outputs['topics'])} items\")\n",
    "print(f\"  ✅ First topic: {result_xml.outputs['topics'][0] if result_xml.outputs['topics'] else 'None'}\")\n",
    "print(f\"  ✅ Confidence type: {type(result_xml.outputs['confidence']).__name__}\")\n",
    "print(f\"  ✅ All fields present: {set(result_xml.outputs.keys())}\")\n",
    "\n",
    "# 3. Markdown Adapter (AVOID for structured data)\n",
    "print(\"\\n3️⃣ MARKDOWN ADAPTER:\")\n",
    "markdown_analyzer = Predict(TextAnalysis, adapter=\"markdown\")\n",
    "result_md = await markdown_analyzer(text=test_text)\n",
    "\n",
    "# Markdown often has parsing issues with lists\n",
    "topics_md = result_md.outputs.get('topics', [])\n",
    "if isinstance(topics_md, list) and len(topics_md) > 0:\n",
    "    print(f\"  ⚠️ Topics parsed: {len(topics_md)} items\")\n",
    "    if len(topics_md) > 10:  # Likely parsed as individual characters\n",
    "        print(f\"  ❌ WARNING: Likely parsing error (got {len(topics_md)} items)!\")\n",
    "else:\n",
    "    print(f\"  ❌ Topics: Failed to parse as list\")\n",
    "print(f\"  ⚠️ Confidence type: {type(result_md.outputs.get('confidence', 'missing')).__name__}\")\n",
    "print(f\"  ⚠️ Fields present: {set(result_md.outputs.keys())}\")\n",
    "\n",
    "print(\"\\n\" + \"=\" * 60)\n",
    "print(\"📊 VERDICT: JSON adapter provides most reliable parsing!\")"
   ]
  },
  {
   "cell_type": "markdown",
   "metadata": {},
   "source": [
    "### 🎯 Smart Adapter Selection"
   ]
  },
  {
   "cell_type": "code",
   "execution_count": 6,
   "metadata": {},
   "outputs": [
    {
     "name": "stdout",
     "output_type": "stream",
     "text": [
      "🤖 Automatic Adapter Selection:\n",
      "\n",
      "Complex signature → Adapter: json\n",
      "Simple signature → Adapter: chat\n",
      "\n",
      "✨ LogiLLM intelligently selects adapters based on signature complexity!\n"
     ]
    }
   ],
   "source": [
    "# LogiLLM can automatically select the best adapter\n",
    "print(\"🤖 Automatic Adapter Selection:\\n\")\n",
    "\n",
    "# Signature with lists → JSON automatically selected\n",
    "auto_analyzer = Predict(TextAnalysis)  # No adapter specified\n",
    "print(f\"Complex signature → Adapter: {auto_analyzer.adapter.format_type.value}\")\n",
    "\n",
    "# Simple signature → Chat adapter selected\n",
    "class SimpleSignature(Signature):\n",
    "    text: str = InputField()\n",
    "    summary: str = OutputField()\n",
    "\n",
    "simple_analyzer = Predict(SimpleSignature)\n",
    "print(f\"Simple signature → Adapter: {simple_analyzer.adapter.format_type.value}\")\n",
    "\n",
    "print(\"\\n✨ LogiLLM intelligently selects adapters based on signature complexity!\")"
   ]
  },
  {
   "cell_type": "markdown",
   "metadata": {},
   "source": [
    "## 🔗 Part 3: Combining Modules & Adapters\n",
    "\n",
    "The real power comes from combining the right module with the right adapter."
   ]
  },
  {
   "cell_type": "code",
   "execution_count": 7,
   "metadata": {},
   "outputs": [
    {
     "name": "stdout",
     "output_type": "stream",
     "text": [
      "🔍 Code Review: Module + Adapter Combinations\n",
      "\n",
      "❌ Predict + Markdown (not recommended):\n",
      "  Issues found: 890\n",
      "  Issue parsing: ❌ Failed\n",
      "\n",
      "✅ ChainOfThought + JSON (recommended):\n",
      "  Issues found: 4\n",
      "  First issue: SQL query is constructed using string formatting which may lead to SQL injection vulnerabilities.\n",
      "  Has reasoning: True\n",
      "  Quality score type: int\n",
      "\n",
      "🏆 Production Pipeline (ChainOfThought + JSON + Retry):\n",
      "  All fields parsed: ✅\n",
      "  Issues: 4 found\n",
      "  Security risks: 1 found\n",
      "  With reasoning: ✅\n",
      "  With retry protection: ✅\n"
     ]
    }
   ],
   "source": [
    "# Complex task requiring both reasoning AND reliable parsing\n",
    "class CodeReview(Signature):\n",
    "    \"\"\"Review code for issues and improvements.\"\"\"\n",
    "    code: str = InputField(desc=\"Code to review\")\n",
    "    language: str = InputField(desc=\"Programming language\")\n",
    "    \n",
    "    issues: list[str] = OutputField(desc=\"List of issues found\")\n",
    "    improvements: list[str] = OutputField(desc=\"Suggested improvements\")\n",
    "    security_risks: list[str] = OutputField(desc=\"Security vulnerabilities\")\n",
    "    quality_score: int = OutputField(desc=\"Quality score 1-10\")\n",
    "\n",
    "sample_code = '''\n",
    "def get_user(user_id):\n",
    "    query = f\"SELECT * FROM users WHERE id = {user_id}\"\n",
    "    return db.execute(query)\n",
    "'''\n",
    "\n",
    "print(\"🔍 Code Review: Module + Adapter Combinations\\n\")\n",
    "\n",
    "# 1. Basic Predict with Markdown (problematic)\n",
    "print(\"❌ Predict + Markdown (not recommended):\")\n",
    "basic_md = Predict(CodeReview, adapter=\"markdown\")\n",
    "result_md = await basic_md(code=sample_code, language=\"python\")\n",
    "print(f\"  Issues found: {len(result_md.outputs.get('issues', []))}\")\n",
    "print(f\"  Issue parsing: {'✅ OK' if isinstance(result_md.outputs.get('issues'), list) else '❌ Failed'}\")\n",
    "\n",
    "# 2. ChainOfThought with JSON (recommended)\n",
    "print(\"\\n✅ ChainOfThought + JSON (recommended):\")\n",
    "smart_json = ChainOfThought(CodeReview, adapter=\"json\")\n",
    "result_json = await smart_json(code=sample_code, language=\"python\")\n",
    "print(f\"  Issues found: {len(result_json.outputs['issues'])}\")\n",
    "print(f\"  First issue: {result_json.outputs['issues'][0] if result_json.outputs['issues'] else 'None'}\")\n",
    "print(f\"  Has reasoning: {'reasoning' in result_json.outputs}\")\n",
    "print(f\"  Quality score type: {type(result_json.outputs['quality_score']).__name__}\")\n",
    "\n",
    "# 3. Robust pipeline: ChainOfThought + JSON + Retry\n",
    "print(\"\\n🏆 Production Pipeline (ChainOfThought + JSON + Retry):\")\n",
    "robust_reviewer = Retry(\n",
    "    ChainOfThought(CodeReview, adapter=\"json\"),\n",
    "    max_retries=2\n",
    ")\n",
    "result_robust = await robust_reviewer(code=sample_code, language=\"python\")\n",
    "print(f\"  All fields parsed: ✅\")\n",
    "print(f\"  Issues: {len(result_robust.outputs['issues'])} found\")\n",
    "print(f\"  Security risks: {len(result_robust.outputs['security_risks'])} found\")\n",
    "print(f\"  With reasoning: ✅\")\n",
    "print(f\"  With retry protection: ✅\")"
   ]
  },
  {
   "cell_type": "markdown",
   "metadata": {},
   "source": [
    "## 🛠️ Part 4: Advanced Module Patterns"
   ]
  },
  {
   "cell_type": "markdown",
   "metadata": {},
   "source": [
    "### 🔄 Retry Module - Handling Failures"
   ]
  },
  {
   "cell_type": "code",
   "execution_count": 8,
   "metadata": {},
   "outputs": [
    {
     "name": "stdout",
     "output_type": "stream",
     "text": [
      "🔄 Retry Strategies Comparison:\n",
      "\n",
      "📍 Immediate Retry:\n",
      "  Time: 3.53s\n",
      "  Success: True\n",
      "  Steps: 6 defined\n",
      "\n",
      "📍 Linear Retry:\n",
      "  Time: 4.84s\n",
      "  Success: True\n",
      "  Steps: 7 defined\n",
      "\n",
      "📍 Exponential Retry:\n",
      "  Time: 3.14s\n",
      "  Success: True\n",
      "  Steps: 6 defined\n",
      "\n"
     ]
    }
   ],
   "source": [
    "# Retry module for reliability\n",
    "from logillm.core.retry import RetryStrategy\n",
    "\n",
    "class ComplexTask(Signature):\n",
    "    \"\"\"A task that might fail or need retries.\"\"\"\n",
    "    input: str = InputField()\n",
    "    constraints: list[str] = InputField(desc=\"Constraints to satisfy\")\n",
    "    \n",
    "    solution: str = OutputField(desc=\"Solution meeting all constraints\")\n",
    "    steps: list[str] = OutputField(desc=\"Steps taken\")\n",
    "    valid: bool = OutputField(desc=\"Whether solution meets all constraints\")\n",
    "\n",
    "# Configure retry with different strategies\n",
    "retry_configs = [\n",
    "    (\"Immediate\", RetryStrategy.IMMEDIATE, 0),\n",
    "    (\"Linear\", RetryStrategy.LINEAR, 1.0),\n",
    "    (\"Exponential\", RetryStrategy.EXPONENTIAL, 1.0)\n",
    "]\n",
    "\n",
    "print(\"🔄 Retry Strategies Comparison:\\n\")\n",
    "\n",
    "for name, strategy, base_delay in retry_configs:\n",
    "    retrier = Retry(\n",
    "        Predict(ComplexTask, adapter=\"json\"),\n",
    "        max_retries=2,\n",
    "        strategy=strategy,\n",
    "        base_delay=base_delay\n",
    "    )\n",
    "    \n",
    "    print(f\"📍 {name} Retry:\")\n",
    "    start = time.time()\n",
    "    result = await retrier(\n",
    "        input=\"Design a system\",\n",
    "        constraints=[\"scalable\", \"secure\", \"cost-effective\"]\n",
    "    )\n",
    "    elapsed = time.time() - start\n",
    "    \n",
    "    print(f\"  Time: {elapsed:.2f}s\")\n",
    "    print(f\"  Success: {result.success}\")\n",
    "    print(f\"  Steps: {len(result.outputs.get('steps', []))} defined\")\n",
    "    print()"
   ]
  },
  {
   "cell_type": "markdown",
   "metadata": {},
   "source": [
    "### ✨ Refine Module - Iterative Improvement"
   ]
  },
  {
   "cell_type": "code",
   "execution_count": 9,
   "metadata": {},
   "outputs": [
    {
     "name": "stdout",
     "output_type": "stream",
     "text": [
      "✨ Content Refinement Example:\n",
      "\n",
      "📝 Title: A Brighter Tomorrow: AI and Humanity United\n",
      "\n",
      "In the dawn of a new era, artificial intelligence stands not as a distant marvel, but as a beacon of hope illuminating the path forward. With every algorithm and every line of code, AI extends a helpi...\n",
      "\n",
      "📊 Refined through 1 attempts\n"
     ]
    }
   ],
   "source": [
    "# Refine for quality improvement\n",
    "class CreativeWriting(Signature):\n",
    "    \"\"\"Generate creative content.\"\"\"\n",
    "    prompt: str = InputField()\n",
    "    style: str = InputField(desc=\"Writing style\")\n",
    "    \n",
    "    content: str = OutputField(desc=\"Generated content\")\n",
    "    title: str = OutputField(desc=\"Title\")\n",
    "\n",
    "# Quality evaluation function\n",
    "def content_quality(inputs: dict, prediction) -> float:\n",
    "    \"\"\"Evaluate content quality.\"\"\"\n",
    "    if not prediction.success:\n",
    "        return 0.0\n",
    "    \n",
    "    content = prediction.outputs.get('content', '')\n",
    "    title = prediction.outputs.get('title', '')\n",
    "    \n",
    "    score = 0.0\n",
    "    if title and len(title) > 3:\n",
    "        score += 0.3\n",
    "    if len(content) > 100:\n",
    "        score += 0.4\n",
    "    if content.count('.') > 2:  # Multiple sentences\n",
    "        score += 0.3\n",
    "    \n",
    "    return min(score, 1.0)\n",
    "\n",
    "# Create refiner with JSON adapter for reliability\n",
    "refiner = Refine(\n",
    "    module=Predict(CreativeWriting, adapter=\"json\"),\n",
    "    N=3,  # Try 3 times\n",
    "    reward_fn=content_quality,\n",
    "    threshold=0.8\n",
    ")\n",
    "\n",
    "print(\"✨ Content Refinement Example:\\n\")\n",
    "result = await refiner(\n",
    "    prompt=\"AI helping humanity\",\n",
    "    style=\"inspirational\"\n",
    ")\n",
    "\n",
    "print(f\"📝 Title: {result.outputs['title']}\")\n",
    "print(f\"\\n{result.outputs['content'][:200]}...\")\n",
    "\n",
    "if 'refinement_attempts' in result.metadata:\n",
    "    print(f\"\\n📊 Refined through {result.metadata['refinement_attempts']} attempts\")"
   ]
  },
  {
   "cell_type": "markdown",
   "metadata": {},
   "source": [
    "## 📊 Part 5: Performance & Best Practices"
   ]
  },
  {
   "cell_type": "code",
   "execution_count": 10,
   "metadata": {},
   "outputs": [
    {
     "name": "stdout",
     "output_type": "stream",
     "text": [
      "⚡ Module + Adapter Performance Matrix:\n",
      "\n",
      "Configuration                  Time (s)   Reliability  Use Case\n",
      "===========================================================================\n",
      "Predict + Chat                 21.52      ⭐⭐⭐⭐⭐        Simple tasks\n",
      "Predict + JSON                 1.25       ⭐⭐⭐⭐⭐        Structured data\n",
      "Predict + Markdown             1.15       ⭐⭐           Human-readable\n",
      "ChainOfThought + JSON          1.81       ⭐⭐⭐⭐⭐        Complex reasoning\n",
      "Retry(Predict) + JSON          0.93       ⭐⭐⭐⭐         Network issues\n"
     ]
    }
   ],
   "source": [
    "# Performance comparison\n",
    "print(\"⚡ Module + Adapter Performance Matrix:\\n\")\n",
    "print(f\"{'Configuration':<30} {'Time (s)':<10} {'Reliability':<12} {'Use Case'}\")\n",
    "print(\"=\" * 75)\n",
    "\n",
    "configs = [\n",
    "    (\"Predict + Chat\", Predict(SimpleSignature), \"⭐⭐⭐⭐⭐\", \"Simple tasks\"),\n",
    "    (\"Predict + JSON\", Predict(TextAnalysis, adapter=\"json\"), \"⭐⭐⭐⭐⭐\", \"Structured data\"),\n",
    "    (\"Predict + Markdown\", Predict(TextAnalysis, adapter=\"markdown\"), \"⭐⭐\", \"Human-readable\"),\n",
    "    (\"ChainOfThought + JSON\", ChainOfThought(TextAnalysis, adapter=\"json\"), \"⭐⭐⭐⭐⭐\", \"Complex reasoning\"),\n",
    "    (\"Retry(Predict) + JSON\", Retry(Predict(TextAnalysis, adapter=\"json\")), \"⭐⭐⭐⭐\", \"Network issues\"),\n",
    "]\n",
    "\n",
    "for name, module, reliability, use_case in configs:\n",
    "    start = time.time()\n",
    "    try:\n",
    "        result = await module(text=\"Test text for analysis.\")\n",
    "        elapsed = time.time() - start\n",
    "        print(f\"{name:<30} {elapsed:<10.2f} {reliability:<12} {use_case}\")\n",
    "    except:\n",
    "        print(f\"{name:<30} {'N/A':<10} {reliability:<12} {use_case}\")"
   ]
  },
  {
   "cell_type": "markdown",
   "metadata": {},
   "source": [
    "## 🏗️ Part 6: Production Pipeline Example"
   ]
  },
  {
   "cell_type": "code",
   "execution_count": 11,
   "metadata": {},
   "outputs": [
    {
     "name": "stdout",
     "output_type": "stream",
     "text": [
      "🏭 Production Pipeline Test:\n",
      "\n",
      "📝 Summary: The email from Mike Chen, Product Manager, addresses the need to pivot the Q4 strategy following discussions with John Smith from Marketing and Sarah Johnson from Engineering. Key strategic changes include delaying the product launch for extra QA testing, increasing the marketing budget by 20%, and hiring three additional engineers. The team is requested to review and respond by Friday, highlighting the urgency of these decisions.\n",
      "\n",
      "👥 Entities:\n",
      "  • Mike Chen\n",
      "  • John Smith\n",
      "  • Sarah Johnson\n",
      "  • Marketing\n",
      "  • Engineering\n",
      "\n",
      "✅ Action Items:\n",
      "  • Delay launch by 2 weeks for additional QA.\n",
      "  • Increase marketing budget by 20%.\n",
      "  • Hire 3 additional engineers.\n",
      "  • Team to review changes and respond by Friday.\n",
      "\n",
      "🚨 Priority: HIGH\n",
      "🏷️ Tags: Q4 strategy, AI features, product launch, marketing budget, hiring, QA, urgent\n",
      "\n",
      "✨ Benefits of this pipeline:\n",
      "  • JSON adapter ensures lists parse correctly\n",
      "  • ChainOfThought provides reasoning for decisions\n",
      "  • Retry handles transient failures\n",
      "  • All output fields guaranteed to exist\n"
     ]
    }
   ],
   "source": [
    "# Production-ready document processing pipeline\n",
    "class DocumentProcessor(Signature):\n",
    "    \"\"\"Process and analyze documents.\"\"\"\n",
    "    document: str = InputField(desc=\"Document text\")\n",
    "    doc_type: str = InputField(desc=\"Type: email, report, article\")\n",
    "    requirements: list[str] = InputField(desc=\"Processing requirements\")\n",
    "    \n",
    "    summary: str = OutputField(desc=\"Executive summary\")\n",
    "    key_points: list[str] = OutputField(desc=\"Main points\")\n",
    "    action_items: list[str] = OutputField(desc=\"Action items if any\")\n",
    "    entities: list[str] = OutputField(desc=\"Named entities mentioned\")\n",
    "    priority: str = OutputField(desc=\"high, medium, or low\")\n",
    "    tags: list[str] = OutputField(desc=\"Relevant tags\")\n",
    "\n",
    "def create_production_pipeline():\n",
    "    \"\"\"Create a robust, production-ready pipeline.\"\"\"\n",
    "    \n",
    "    # Step 1: Choose the right module (ChainOfThought for complex analysis)\n",
    "    # Step 2: Choose the right adapter (JSON for structured outputs)\n",
    "    # Step 3: Add reliability (Retry wrapper)\n",
    "    \n",
    "    pipeline = Retry(\n",
    "        ChainOfThought(\n",
    "            DocumentProcessor,\n",
    "            adapter=\"json\"  # Critical: JSON for list fields!\n",
    "        ),\n",
    "        max_retries=3,\n",
    "        strategy=RetryStrategy.EXPONENTIAL,\n",
    "        base_delay=1.0\n",
    "    )\n",
    "    \n",
    "    return pipeline\n",
    "\n",
    "# Test the pipeline\n",
    "pipeline = create_production_pipeline()\n",
    "\n",
    "test_doc = \"\"\"\n",
    "Subject: Q4 Strategy Meeting - Urgent\n",
    "\n",
    "Team,\n",
    "\n",
    "Following our discussion with John Smith from Marketing and Sarah Johnson from Engineering,\n",
    "we need to pivot our Q4 strategy. The new AI features are showing great promise but need\n",
    "more testing. \n",
    "\n",
    "Key decisions needed:\n",
    "- Delay launch by 2 weeks for additional QA\n",
    "- Increase marketing budget by 20%\n",
    "- Hire 3 additional engineers\n",
    "\n",
    "Please review and respond by Friday.\n",
    "\n",
    "Best,\n",
    "Mike Chen\n",
    "Product Manager\n",
    "\"\"\"\n",
    "\n",
    "print(\"🏭 Production Pipeline Test:\\n\")\n",
    "result = await pipeline(\n",
    "    document=test_doc,\n",
    "    doc_type=\"email\",\n",
    "    requirements=[\"extract action items\", \"identify people\", \"assess urgency\"]\n",
    ")\n",
    "\n",
    "# All fields guaranteed to exist and be properly parsed!\n",
    "print(f\"📝 Summary: {result.outputs['summary']}\\n\")\n",
    "\n",
    "print(\"👥 Entities:\")\n",
    "for entity in result.outputs['entities'][:5]:\n",
    "    print(f\"  • {entity}\")\n",
    "\n",
    "print(\"\\n✅ Action Items:\")\n",
    "for item in result.outputs['action_items']:\n",
    "    print(f\"  • {item}\")\n",
    "\n",
    "print(f\"\\n🚨 Priority: {result.outputs['priority'].upper()}\")\n",
    "print(f\"🏷️ Tags: {', '.join(result.outputs['tags'])}\")\n",
    "\n",
    "print(\"\\n✨ Benefits of this pipeline:\")\n",
    "print(\"  • JSON adapter ensures lists parse correctly\")\n",
    "print(\"  • ChainOfThought provides reasoning for decisions\")\n",
    "print(\"  • Retry handles transient failures\")\n",
    "print(\"  • All output fields guaranteed to exist\")"
   ]
  },
  {
   "cell_type": "markdown",
   "metadata": {},
   "source": [
    "## 🎯 Key Takeaways\n",
    "\n",
    "<div style=\"background: #e8f5e9; padding: 25px; border-radius: 10px; margin: 20px 0;\">\n",
    "    <h3 style=\"margin-top: 0;\">Module Selection Guide</h3>\n",
    "    <table style=\"width: 100%; margin: 15px 0;\">\n",
    "        <tr style=\"background: rgba(0,0,0,0.05);\">\n",
    "            <th style=\"padding: 10px; text-align: left;\">Module</th>\n",
    "            <th style=\"padding: 10px;\">When to Use</th>\n",
    "        </tr>\n",
    "        <tr>\n",
    "            <td style=\"padding: 8px;\"><strong>Predict</strong></td>\n",
    "            <td style=\"padding: 8px;\">Simple transformations, speed critical</td>\n",
    "        </tr>\n",
    "        <tr style=\"background: rgba(0,0,0,0.02);\">\n",
    "            <td style=\"padding: 8px;\"><strong>ChainOfThought</strong></td>\n",
    "            <td style=\"padding: 8px;\">Complex reasoning, multi-step problems</td>\n",
    "        </tr>\n",
    "        <tr>\n",
    "            <td style=\"padding: 8px;\"><strong>Retry</strong></td>\n",
    "            <td style=\"padding: 8px;\">Network reliability, parsing complex data</td>\n",
    "        </tr>\n",
    "        <tr style=\"background: rgba(0,0,0,0.02);\">\n",
    "            <td style=\"padding: 8px;\"><strong>Refine</strong></td>\n",
    "            <td style=\"padding: 8px;\">Quality over speed, creative tasks</td>\n",
    "        </tr>\n",
    "    </table>    \n",
    "    <h3 style=\"margin-top: 20px;\">Adapter Selection Guide</h3>\n",
    "    <table style=\"width: 100%; margin: 15px 0;\">\n",
    "        <tr style=\"background: rgba(0,0,0,0.05);\">\n",
    "            <th style=\"padding: 10px; text-align: left;\">Adapter</th>\n",
    "            <th style=\"padding: 10px;\">Best For</th>\n",
    "            <th style=\"padding: 10px;\">Avoid For</th>\n",
    "        </tr>\n",
    "        <tr>\n",
    "            <td style=\"padding: 8px;\"><strong>JSON</strong> ⭐</td>\n",
    "            <td style=\"padding: 8px;\">Structured data, lists, production</td>\n",
    "            <td style=\"padding: 8px;\">Human-only reading</td>\n",
    "        </tr>\n",
    "        <tr style=\"background: rgba(0,0,0,0.02);\">\n",
    "            <td style=\"padding: 8px;\"><strong>XML</strong></td>\n",
    "            <td style=\"padding: 8px;\">Alternative to JSON, legacy systems</td>\n",
    "            <td style=\"padding: 8px;\">Simple outputs</td>\n",
    "        </tr>\n",
    "        <tr>\n",
    "            <td style=\"padding: 8px;\"><strong>Markdown</strong> ⚠️</td>\n",
    "            <td style=\"padding: 8px;\">Human-readable reports</td>\n",
    "            <td style=\"padding: 8px;\">Lists, structured data</td>\n",
    "        </tr>\n",
    "        <tr style=\"background: rgba(0,0,0,0.02);\">\n",
    "            <td style=\"padding: 8px;\"><strong>Chat</strong></td>\n",
    "            <td style=\"padding: 8px;\">Conversations, simple outputs</td>\n",
    "            <td style=\"padding: 8px;\">Complex structures</td>\n",
    "        </tr>\n",
    "    </table>    \n",
    "    <h3 style=\"margin-top: 20px;\">🏆 Best Practices</h3>\n",
    "    <ol>\n",
    "        <li><strong>Use JSON adapter</strong> for any signature with list fields</li>\n",
    "        <li><strong>Add ChainOfThought</strong> when reasoning improves accuracy</li>\n",
    "        <li><strong>Wrap with Retry</strong> for production reliability</li>\n",
    "        <li><strong>Test adapter output</strong> before deploying</li>\n",
    "        <li><strong>Let LogiLLM auto-select</strong> adapters when unsure</li>\n",
    "    </ol>\n",
    "</div>"
   ]
  },
  {
   "cell_type": "markdown",
   "metadata": {},
   "source": [
    "## 🎮 Interactive Exercise"
   ]
  },
  {
   "cell_type": "code",
   "execution_count": 12,
   "metadata": {},
   "outputs": [
    {
     "name": "stdout",
     "output_type": "stream",
     "text": [
      "🎯 Customer Feedback Analysis:\n",
      "\n",
      "😊 Sentiment: positive\n",
      "📊 Satisfaction: 7/10\n",
      "🚨 Follow-up needed: True\n",
      "\n",
      "🐛 Issues:\n",
      "  • Markdown adapter not parsing lists correctly\n",
      "  • Lack of examples for complex signatures\n",
      "  • JSON adapter not well documented\n",
      "\n",
      "💡 Suggestions:\n",
      "  • Add more examples for complex signatures\n",
      "  • Improve documentation for JSON adapter\n",
      "  • Fix markdown adapter list parsing\n",
      "\n",
      "🏷️ Categories: documentation, functionality, user experience\n",
      "\n",
      "💭 Analysis reasoning: The customer feedback mentions both positive and negative aspects of the LogiLLM product. They appreciate the good documentation and intuitive API, highlighting satisfaction with the JSON adapter's fu...\n"
     ]
    }
   ],
   "source": [
    "# Exercise: Build your own optimized pipeline\n",
    "# Task: Create a customer feedback analyzer\n",
    "\n",
    "class CustomerFeedback(Signature):\n",
    "    \"\"\"Analyze customer feedback comprehensively.\"\"\"\n",
    "    feedback: str = InputField(desc=\"Customer feedback text\")\n",
    "    product: str = InputField(desc=\"Product name\")\n",
    "    \n",
    "    sentiment: str = OutputField(desc=\"positive, negative, neutral\")\n",
    "    issues: list[str] = OutputField(desc=\"Problems mentioned\")\n",
    "    suggestions: list[str] = OutputField(desc=\"Improvements suggested\")\n",
    "    satisfaction_score: int = OutputField(desc=\"1-10 satisfaction\")\n",
    "    follow_up_needed: bool = OutputField(desc=\"Requires follow-up\")\n",
    "    categories: list[str] = OutputField(desc=\"Feedback categories\")\n",
    "\n",
    "# TODO: Create your optimized pipeline\n",
    "# Hints:\n",
    "# 1. Use ChainOfThought for better analysis\n",
    "# 2. Use JSON adapter for reliable list parsing\n",
    "# 3. Add Retry for production reliability\n",
    "\n",
    "# Your code here:\n",
    "feedback_analyzer = Retry(\n",
    "    ChainOfThought(\n",
    "        CustomerFeedback,\n",
    "        adapter=\"json\"  # Critical for lists!\n",
    "    ),\n",
    "    max_retries=2\n",
    ")\n",
    "\n",
    "# Test with sample feedback\n",
    "test_feedback = \"\"\"\n",
    "I've been using your LogiLLM framework for 2 months now. The documentation \n",
    "is excellent and the API is intuitive. However, I'm having issues with the \n",
    "markdown adapter not parsing lists correctly. It would be great if you could \n",
    "add more examples for complex signatures. Also, the JSON adapter works perfectly \n",
    "but isn't well documented. Overall, I'm satisfied but these issues are frustrating.\n",
    "\"\"\"\n",
    "\n",
    "result = await feedback_analyzer(\n",
    "    feedback=test_feedback,\n",
    "    product=\"LogiLLM\"\n",
    ")\n",
    "\n",
    "print(\"🎯 Customer Feedback Analysis:\\n\")\n",
    "print(f\"😊 Sentiment: {result.outputs['sentiment']}\")\n",
    "print(f\"📊 Satisfaction: {result.outputs['satisfaction_score']}/10\")\n",
    "print(f\"🚨 Follow-up needed: {result.outputs['follow_up_needed']}\")\n",
    "\n",
    "print(\"\\n🐛 Issues:\")\n",
    "for issue in result.outputs['issues']:\n",
    "    print(f\"  • {issue}\")\n",
    "\n",
    "print(\"\\n💡 Suggestions:\")\n",
    "for suggestion in result.outputs['suggestions']:\n",
    "    print(f\"  • {suggestion}\")\n",
    "\n",
    "print(\"\\n🏷️ Categories:\", ', '.join(result.outputs['categories']))\n",
    "\n",
    "if 'reasoning' in result.outputs:\n",
    "    print(f\"\\n💭 Analysis reasoning: {result.outputs['reasoning'][:200]}...\")"
   ]
  },
  {
   "cell_type": "markdown",
   "metadata": {},
   "source": [
    "## 🏁 Progress Check"
   ]
  },
  {
   "cell_type": "code",
   "execution_count": 13,
   "metadata": {},
   "outputs": [
    {
     "name": "stdout",
     "output_type": "stream",
     "text": [
      "📊 Notebook Progress: 9/9 sections (100%)\n",
      "\n",
      "████████████████████\n",
      "\n",
      "🎉 Excellent! You've mastered Modules & Adapters!\n",
      "\n",
      "🔑 Key insights gained:\n",
      "  • JSON adapter is best for structured data\n",
      "  • ChainOfThought adds valuable reasoning\n",
      "  • Module composition creates robust pipelines\n",
      "  • Adapter choice significantly affects reliability\n",
      "\n",
      "Ready for Notebook 4: Providers!\n"
     ]
    }
   ],
   "source": [
    "# Progress tracker\n",
    "completed = {\n",
    "    \"modules_basics\": True,\n",
    "    \"adapters_intro\": True,\n",
    "    \"adapter_comparison\": True,\n",
    "    \"module_adapter_combo\": True,\n",
    "    \"retry_patterns\": True,\n",
    "    \"refine_patterns\": True,\n",
    "    \"performance\": True,\n",
    "    \"production_pipeline\": True,\n",
    "    \"exercise\": True\n",
    "}\n",
    "\n",
    "total = len(completed)\n",
    "done = sum(completed.values())\n",
    "percentage = (done / total) * 100\n",
    "\n",
    "print(f\"📊 Notebook Progress: {done}/{total} sections ({percentage:.0f}%)\")\n",
    "print(\"\\n\" + \"█\" * int(percentage // 5) + \"░\" * (20 - int(percentage // 5)))\n",
    "\n",
    "if percentage == 100:\n",
    "    print(\"\\n🎉 Excellent! You've mastered Modules & Adapters!\")\n",
    "    print(\"\\n🔑 Key insights gained:\")\n",
    "    print(\"  • JSON adapter is best for structured data\")\n",
    "    print(\"  • ChainOfThought adds valuable reasoning\")\n",
    "    print(\"  • Module composition creates robust pipelines\")\n",
    "    print(\"  • Adapter choice significantly affects reliability\")\n",
    "    print(\"\\nReady for Notebook 4: Providers!\")"
   ]
  },
  {
   "cell_type": "markdown",
   "metadata": {},
   "source": [
    "<div style=\"display: flex; justify-content: space-between; margin-top: 40px; padding: 20px; background: #f5f5f5; border-radius: 10px;\">\n",
    "    <a href=\"02_signatures.ipynb\" style=\"text-decoration: none; padding: 10px 20px; background: white; border-radius: 5px; border: 1px solid #ddd;\">← Notebook 2</a>\n",
    "    <div style=\"text-align: center;\">\n",
    "        <strong>Congratulations! You understand Modules & Adapters! 🎓</strong>\n",
    "    </div>\n",
    "    <a href=\"04_providers.ipynb\" style=\"text-decoration: none; padding: 10px 20px; background: #667eea; color: white; border-radius: 5px;\">Continue to Notebook 4 →</a>\n",
    "</div>"
   ]
  }
 ],
 "metadata": {
  "kernelspec": {
   "display_name": "Python 3 (ipykernel)",
   "language": "python",
   "name": "python3"
  },
  "language_info": {
   "codemirror_mode": {
    "name": "ipython",
    "version": 3
   },
   "file_extension": ".py",
   "mimetype": "text/x-python",
   "name": "python",
   "nbconvert_exporter": "python",
   "pygments_lexer": "ipython3",
   "version": "3.13.4"
  }
 },
 "nbformat": 4,
 "nbformat_minor": 4
}
